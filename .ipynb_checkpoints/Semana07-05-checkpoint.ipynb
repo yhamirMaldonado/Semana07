{
 "cells": [
  {
   "cell_type": "markdown",
   "id": "80eea000",
   "metadata": {},
   "source": [
    "# Semana 07\n",
    "Maldonado Vanegas Yhamir"
   ]
  },
  {
   "cell_type": "markdown",
   "id": "4333d063",
   "metadata": {},
   "source": [
    "Temas: \n",
    "    1.Numeros\n",
    "    2.Variables\n",
    "    3.Manejo de cadenas\n",
    "    4.Ingreso de datos por el teclado\n",
    "    5.Operadores"
   ]
  },
  {
   "cell_type": "markdown",
   "id": "cce9fd1c",
   "metadata": {},
   "source": [
    "5. Operadores"
   ]
  },
  {
   "cell_type": "code",
   "execution_count": 5,
   "id": "2593c17f",
   "metadata": {},
   "outputs": [
    {
     "name": "stdout",
     "output_type": "stream",
     "text": [
      "13\n",
      "7\n",
      "30\n",
      "3.3333333333333335\n",
      "1\n",
      "3\n",
      "1000\n"
     ]
    }
   ],
   "source": [
    "#Operadores Aritmeticos\n",
    "numero1 = 10\n",
    "numero2 = 3\n",
    "suma = numero1 + numero2\n",
    "resta = numero1 - numero2\n",
    "multiplicacion = numero1 * numero2\n",
    "division = numero1 / numero2\n",
    "modulo = numero1 % numero2\n",
    "cociente = numero1 // numero2\n",
    "potencia = numero1 ** numero2\n",
    "\n",
    "print(suma)\n",
    "print(resta)\n",
    "print(multiplicacion)\n",
    "print(division)\n",
    "print(modulo)\n",
    "print(cociente)\n",
    "print(potencia)"
   ]
  },
  {
   "cell_type": "code",
   "execution_count": 6,
   "id": "d7c95b2b",
   "metadata": {},
   "outputs": [
    {
     "name": "stdout",
     "output_type": "stream",
     "text": [
      "8\n"
     ]
    }
   ],
   "source": [
    "#La operacion anterior tambien se puede expresar de la siguiente manera\n",
    "numero = 5\n",
    "numero +=3\n",
    "print(numero)"
   ]
  },
  {
   "cell_type": "code",
   "execution_count": 7,
   "id": "c2e56912",
   "metadata": {},
   "outputs": [
    {
     "name": "stdout",
     "output_type": "stream",
     "text": [
      "125\n"
     ]
    }
   ],
   "source": [
    "#Lo mismo se puede hacer con todos los casos, incluso la potencia \n",
    "#veamos el otro ejemplo\n",
    "numero = 5\n",
    "numero **=3\n",
    "print(numero)"
   ]
  },
  {
   "cell_type": "code",
   "execution_count": 9,
   "id": "aac5f716",
   "metadata": {},
   "outputs": [
    {
     "data": {
      "text/plain": [
       "False"
      ]
     },
     "execution_count": 9,
     "metadata": {},
     "output_type": "execute_result"
    }
   ],
   "source": [
    "#Operadores de comparación\n",
    "numero1 = 5\n",
    "numero2 = 2\n",
    "numero1 == numero2"
   ]
  },
  {
   "cell_type": "code",
   "execution_count": 10,
   "id": "993fbf54",
   "metadata": {},
   "outputs": [
    {
     "data": {
      "text/plain": [
       "True"
      ]
     },
     "execution_count": 10,
     "metadata": {},
     "output_type": "execute_result"
    }
   ],
   "source": [
    "nombre1 = \"Yhamir\"\n",
    "nombre2 = \"Yhamir\"\n",
    "nombre1 == nombre2\n"
   ]
  },
  {
   "cell_type": "code",
   "execution_count": 16,
   "id": "c8e0891d",
   "metadata": {},
   "outputs": [],
   "source": [
    "#Operadores Logicos\n",
    "#Se tiene: and, or, not\n",
    "numero1 = 3\n",
    "numero2 = 5\n",
    "numero3 = 4\n",
    "numero4 = 7"
   ]
  },
  {
   "cell_type": "code",
   "execution_count": 17,
   "id": "fa05b074",
   "metadata": {},
   "outputs": [
    {
     "data": {
      "text/plain": [
       "False"
      ]
     },
     "execution_count": 17,
     "metadata": {},
     "output_type": "execute_result"
    }
   ],
   "source": [
    "not (numero1 < numero2)"
   ]
  },
  {
   "cell_type": "code",
   "execution_count": 25,
   "id": "dca62c48",
   "metadata": {},
   "outputs": [],
   "source": [
    "#Operadores de pertencia \n",
    "#Miremos un Ejempl\n",
    "aula = [\"Yhamir\",\"Alfredo\",\"Diego\"]\n",
    "alumno1 = \"Roberto\"\n",
    "alumno2 = \"Yhamir\""
   ]
  },
  {
   "cell_type": "code",
   "execution_count": 26,
   "id": "acacd89e",
   "metadata": {},
   "outputs": [
    {
     "data": {
      "text/plain": [
       "False"
      ]
     },
     "execution_count": 26,
     "metadata": {},
     "output_type": "execute_result"
    }
   ],
   "source": [
    "#Roberto esta en el aula?\n",
    "alumno1 in aula"
   ]
  },
  {
   "cell_type": "code",
   "execution_count": 27,
   "id": "748b62b7",
   "metadata": {},
   "outputs": [
    {
     "data": {
      "text/plain": [
       "True"
      ]
     },
     "execution_count": 27,
     "metadata": {},
     "output_type": "execute_result"
    }
   ],
   "source": [
    "#Yhamir esta en el aula?\n",
    "alumno2 in aula"
   ]
  },
  {
   "cell_type": "code",
   "execution_count": 28,
   "id": "fe108b11",
   "metadata": {},
   "outputs": [
    {
     "data": {
      "text/plain": [
       "True"
      ]
     },
     "execution_count": 28,
     "metadata": {},
     "output_type": "execute_result"
    }
   ],
   "source": [
    "#Diego no esta en el aula \n",
    "alumno1 not in aula"
   ]
  },
  {
   "cell_type": "code",
   "execution_count": 29,
   "id": "9a24f524",
   "metadata": {},
   "outputs": [],
   "source": [
    "#Operadores de identidad\n",
    "#Se tiene is, is not\n",
    "aula1 = [\"Yhamir\",\"Alfredo\",\"Diego\"]\n",
    "aula2 = [\"Yhamir\",\"Alfredo\",\"Diego\"]\n",
    "#a continuacion vamso a indicar que aula3 va a \n",
    "# compartir el mismo objeto que aula 1\n",
    "aula3 = aula1"
   ]
  },
  {
   "cell_type": "code",
   "execution_count": 30,
   "id": "a49221a0",
   "metadata": {},
   "outputs": [
    {
     "data": {
      "text/plain": [
       "True"
      ]
     },
     "execution_count": 30,
     "metadata": {},
     "output_type": "execute_result"
    }
   ],
   "source": [
    "#aula3 comparte el mismo objeto que aula1\n",
    "aula3 is aula1"
   ]
  },
  {
   "cell_type": "code",
   "execution_count": 31,
   "id": "9d8fbbff",
   "metadata": {},
   "outputs": [
    {
     "data": {
      "text/plain": [
       "False"
      ]
     },
     "execution_count": 31,
     "metadata": {},
     "output_type": "execute_result"
    }
   ],
   "source": [
    "#aula3 comparte el mismo objeto que aula2\n",
    "aula3 is aula2"
   ]
  },
  {
   "cell_type": "code",
   "execution_count": 32,
   "id": "203de62c",
   "metadata": {},
   "outputs": [
    {
     "data": {
      "text/plain": [
       "False"
      ]
     },
     "execution_count": 32,
     "metadata": {},
     "output_type": "execute_result"
    }
   ],
   "source": [
    "#aula2 comparte el mismo objeto que aula1\n",
    "aula2 is aula1"
   ]
  },
  {
   "cell_type": "code",
   "execution_count": 33,
   "id": "9a3fa4e9",
   "metadata": {},
   "outputs": [],
   "source": [
    "aula1.append(\"Ruben\")"
   ]
  },
  {
   "cell_type": "code",
   "execution_count": 35,
   "id": "56854611",
   "metadata": {},
   "outputs": [
    {
     "name": "stdout",
     "output_type": "stream",
     "text": [
      "['Yhamir', 'Alfredo', 'Diego', 'Ruben']\n"
     ]
    }
   ],
   "source": [
    "#Al imprimir los elementos de la lista aula1 se observa\n",
    "print(aula1)"
   ]
  },
  {
   "cell_type": "code",
   "execution_count": null,
   "id": "2f8e9e5e",
   "metadata": {},
   "outputs": [],
   "source": []
  }
 ],
 "metadata": {
  "kernelspec": {
   "display_name": "Python 3 (ipykernel)",
   "language": "python",
   "name": "python3"
  },
  "language_info": {
   "codemirror_mode": {
    "name": "ipython",
    "version": 3
   },
   "file_extension": ".py",
   "mimetype": "text/x-python",
   "name": "python",
   "nbconvert_exporter": "python",
   "pygments_lexer": "ipython3",
   "version": "3.9.12"
  }
 },
 "nbformat": 4,
 "nbformat_minor": 5
}
