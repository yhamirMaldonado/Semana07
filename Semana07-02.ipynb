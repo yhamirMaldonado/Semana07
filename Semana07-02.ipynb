{
 "cells": [
  {
   "cell_type": "markdown",
   "id": "13cea41f",
   "metadata": {},
   "source": [
    "# Semana 07\n",
    "Maldonado Vanegas Yhamir"
   ]
  },
  {
   "cell_type": "markdown",
   "id": "7dff1cc9",
   "metadata": {},
   "source": [
    "Temas: \n",
    "    1.Numeros\n",
    "    2.Variables\n",
    "    3.Manejo de cadenas\n",
    "    4.Ingreso de datos por el teclado\n",
    "    5.Operadores"
   ]
  },
  {
   "cell_type": "markdown",
   "id": "c12ddb85",
   "metadata": {},
   "source": [
    "2.Variables"
   ]
  },
  {
   "cell_type": "code",
   "execution_count": 2,
   "id": "3dd34e51",
   "metadata": {},
   "outputs": [
    {
     "data": {
      "text/plain": [
       "41"
      ]
     },
     "execution_count": 2,
     "metadata": {},
     "output_type": "execute_result"
    }
   ],
   "source": [
    "edad = 41\n",
    "edad"
   ]
  },
  {
   "cell_type": "code",
   "execution_count": 10,
   "id": "86b15d37",
   "metadata": {},
   "outputs": [],
   "source": [
    "nombre = \"Yhamir \""
   ]
  },
  {
   "cell_type": "code",
   "execution_count": 11,
   "id": "0205bd91",
   "metadata": {},
   "outputs": [
    {
     "data": {
      "text/plain": [
       "'Yhamir '"
      ]
     },
     "execution_count": 11,
     "metadata": {},
     "output_type": "execute_result"
    }
   ],
   "source": [
    "nombre"
   ]
  },
  {
   "cell_type": "code",
   "execution_count": 12,
   "id": "f1eee28f",
   "metadata": {},
   "outputs": [],
   "source": [
    "apellido = \"Maldonado Vanegas\""
   ]
  },
  {
   "cell_type": "code",
   "execution_count": 13,
   "id": "ec8b995a",
   "metadata": {},
   "outputs": [
    {
     "data": {
      "text/plain": [
       "'Maldonado Vanegas'"
      ]
     },
     "execution_count": 13,
     "metadata": {},
     "output_type": "execute_result"
    }
   ],
   "source": [
    "apellido"
   ]
  },
  {
   "cell_type": "code",
   "execution_count": 14,
   "id": "8affc651",
   "metadata": {},
   "outputs": [],
   "source": [
    "nombreCompleto = nombre + apellido"
   ]
  },
  {
   "cell_type": "code",
   "execution_count": 15,
   "id": "f930f965",
   "metadata": {},
   "outputs": [
    {
     "data": {
      "text/plain": [
       "'Yhamir Maldonado Vanegas'"
      ]
     },
     "execution_count": 15,
     "metadata": {},
     "output_type": "execute_result"
    }
   ],
   "source": [
    "nombreCompleto"
   ]
  },
  {
   "cell_type": "code",
   "execution_count": 17,
   "id": "a7e397ca",
   "metadata": {},
   "outputs": [
    {
     "data": {
      "text/plain": [
       "int"
      ]
     },
     "execution_count": 17,
     "metadata": {},
     "output_type": "execute_result"
    }
   ],
   "source": [
    "numero = 50\n",
    "type(numero)"
   ]
  },
  {
   "cell_type": "code",
   "execution_count": 18,
   "id": "a68aca9e",
   "metadata": {},
   "outputs": [
    {
     "data": {
      "text/plain": [
       "str"
      ]
     },
     "execution_count": 18,
     "metadata": {},
     "output_type": "execute_result"
    }
   ],
   "source": [
    "type(nombre)"
   ]
  },
  {
   "cell_type": "code",
   "execution_count": 19,
   "id": "5caab2d4",
   "metadata": {},
   "outputs": [
    {
     "data": {
      "text/plain": [
       "float"
      ]
     },
     "execution_count": 19,
     "metadata": {},
     "output_type": "execute_result"
    }
   ],
   "source": [
    "talla = 1.57\n",
    "type(talla)"
   ]
  },
  {
   "cell_type": "code",
   "execution_count": 20,
   "id": "9a95b3a0",
   "metadata": {},
   "outputs": [
    {
     "data": {
      "text/plain": [
       "int"
      ]
     },
     "execution_count": 20,
     "metadata": {},
     "output_type": "execute_result"
    }
   ],
   "source": [
    "#para convertir un numero en cadena \n",
    "numero = 100\n",
    "type(numero)"
   ]
  },
  {
   "cell_type": "code",
   "execution_count": 21,
   "id": "83b0f9ef",
   "metadata": {},
   "outputs": [
    {
     "data": {
      "text/plain": [
       "'100'"
      ]
     },
     "execution_count": 21,
     "metadata": {},
     "output_type": "execute_result"
    }
   ],
   "source": [
    "cadena = str(numero)\n",
    "cadena"
   ]
  },
  {
   "cell_type": "code",
   "execution_count": 23,
   "id": "0f960335",
   "metadata": {},
   "outputs": [
    {
     "data": {
      "text/plain": [
       "str"
      ]
     },
     "execution_count": 23,
     "metadata": {},
     "output_type": "execute_result"
    }
   ],
   "source": [
    "type(cadena)"
   ]
  },
  {
   "cell_type": "code",
   "execution_count": null,
   "id": "eef7fbed",
   "metadata": {},
   "outputs": [],
   "source": [
    "#para convertir una cadena en entero utilizamos int()"
   ]
  },
  {
   "cell_type": "code",
   "execution_count": 25,
   "id": "2bbea0fa",
   "metadata": {},
   "outputs": [
    {
     "data": {
      "text/plain": [
       "str"
      ]
     },
     "execution_count": 25,
     "metadata": {},
     "output_type": "execute_result"
    }
   ],
   "source": [
    "cadena2 = \"50\"\n",
    "type(cadena2)"
   ]
  },
  {
   "cell_type": "code",
   "execution_count": 26,
   "id": "e635fb95",
   "metadata": {},
   "outputs": [],
   "source": [
    "numero2=int(cadena2)"
   ]
  },
  {
   "cell_type": "code",
   "execution_count": 27,
   "id": "71ab409e",
   "metadata": {},
   "outputs": [
    {
     "data": {
      "text/plain": [
       "50"
      ]
     },
     "execution_count": 27,
     "metadata": {},
     "output_type": "execute_result"
    }
   ],
   "source": [
    "numero2"
   ]
  },
  {
   "cell_type": "code",
   "execution_count": 28,
   "id": "d332fb82",
   "metadata": {},
   "outputs": [
    {
     "data": {
      "text/plain": [
       "int"
      ]
     },
     "execution_count": 28,
     "metadata": {},
     "output_type": "execute_result"
    }
   ],
   "source": [
    "type(numero2)"
   ]
  },
  {
   "cell_type": "code",
   "execution_count": null,
   "id": "cf2baeb9",
   "metadata": {},
   "outputs": [],
   "source": [
    "#para convertir una cadena a un decimal le ponemos float()"
   ]
  },
  {
   "cell_type": "code",
   "execution_count": 29,
   "id": "ebba1d6e",
   "metadata": {},
   "outputs": [
    {
     "data": {
      "text/plain": [
       "float"
      ]
     },
     "execution_count": 29,
     "metadata": {},
     "output_type": "execute_result"
    }
   ],
   "source": [
    "cadena3=\"12.56\"\n",
    "numero3 = float(cadena3)\n",
    "type(numero3)"
   ]
  },
  {
   "cell_type": "code",
   "execution_count": 30,
   "id": "4afcbe3f",
   "metadata": {},
   "outputs": [
    {
     "data": {
      "text/plain": [
       "12.56"
      ]
     },
     "execution_count": 30,
     "metadata": {},
     "output_type": "execute_result"
    }
   ],
   "source": [
    "numero3"
   ]
  },
  {
   "cell_type": "code",
   "execution_count": null,
   "id": "6b80ef15",
   "metadata": {},
   "outputs": [],
   "source": []
  }
 ],
 "metadata": {
  "kernelspec": {
   "display_name": "Python 3 (ipykernel)",
   "language": "python",
   "name": "python3"
  },
  "language_info": {
   "codemirror_mode": {
    "name": "ipython",
    "version": 3
   },
   "file_extension": ".py",
   "mimetype": "text/x-python",
   "name": "python",
   "nbconvert_exporter": "python",
   "pygments_lexer": "ipython3",
   "version": "3.9.12"
  }
 },
 "nbformat": 4,
 "nbformat_minor": 5
}
