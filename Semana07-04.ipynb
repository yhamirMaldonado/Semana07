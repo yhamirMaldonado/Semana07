{
 "cells": [
  {
   "cell_type": "markdown",
   "id": "6b86f39f",
   "metadata": {},
   "source": [
    "# Semana 07\n",
    "Maldonado Vanegas Yhamir"
   ]
  },
  {
   "cell_type": "markdown",
   "id": "7c65fa68",
   "metadata": {},
   "source": [
    "Temas: \n",
    "    1.Numeros\n",
    "    2.Variables\n",
    "    3.Manejo de cadenas\n",
    "    4.Ingreso de datos por el teclado\n",
    "    5.Operadores"
   ]
  },
  {
   "cell_type": "markdown",
   "id": "98d06d98",
   "metadata": {},
   "source": [
    "4.Ingreso de datos por el teclado"
   ]
  },
  {
   "cell_type": "code",
   "execution_count": 1,
   "id": "39b7044f",
   "metadata": {},
   "outputs": [
    {
     "name": "stdout",
     "output_type": "stream",
     "text": [
      "Cual es tu nombre: \n",
      "Yhamir\n",
      "Hola: Yhamir\n"
     ]
    }
   ],
   "source": [
    "#funcion input \n",
    "print(\"Cual es tu nombre: \")\n",
    "nombre = input()\n",
    "print(\"Hola: \"+nombre)"
   ]
  },
  {
   "cell_type": "code",
   "execution_count": 3,
   "id": "be95123c",
   "metadata": {},
   "outputs": [
    {
     "name": "stdout",
     "output_type": "stream",
     "text": [
      "Numero1: \n",
      "4\n",
      "Numero2: \n",
      "5\n",
      "El resultado es: 9\n"
     ]
    }
   ],
   "source": [
    "#Cuando ingresa un valor por el teclado lo hace como cadenas\n",
    "print(\"Numero1: \")\n",
    "numero1 = input()\n",
    "print(\"Numero2: \")\n",
    "numero2 = input()\n",
    "#parseamos la cadena\n",
    "numero3 = int(numero1) + int(numero2)\n",
    "print(f\"El resultado es: {numero3}\")"
   ]
  },
  {
   "cell_type": "code",
   "execution_count": null,
   "id": "fe48d81d",
   "metadata": {},
   "outputs": [],
   "source": []
  }
 ],
 "metadata": {
  "kernelspec": {
   "display_name": "Python 3 (ipykernel)",
   "language": "python",
   "name": "python3"
  },
  "language_info": {
   "codemirror_mode": {
    "name": "ipython",
    "version": 3
   },
   "file_extension": ".py",
   "mimetype": "text/x-python",
   "name": "python",
   "nbconvert_exporter": "python",
   "pygments_lexer": "ipython3",
   "version": "3.9.12"
  }
 },
 "nbformat": 4,
 "nbformat_minor": 5
}
